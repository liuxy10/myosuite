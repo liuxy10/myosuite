{
 "cells": [
  {
   "cell_type": "code",
   "execution_count": 1,
   "metadata": {},
   "outputs": [
    {
     "name": "stdout",
     "output_type": "stream",
     "text": [
      "MyoSuite:> Registering Myo Envs\n"
     ]
    }
   ],
   "source": [
    "from myosuite.utils import gym\n",
    "import skvideo.io\n",
    "import numpy as np\n",
    "import os"
   ]
  },
  {
   "cell_type": "code",
   "execution_count": 2,
   "metadata": {},
   "outputs": [
    {
     "name": "stdout",
     "output_type": "stream",
     "text": [
      "\u001b[36m    MyoSuite: A contact-rich simulation suite for musculoskeletal motor control\n",
      "        Vittorio Caggiano, Huawei Wang, Guillaume Durandau, Massimo Sartori, Vikash Kumar\n",
      "        L4DC-2019 | https://sites.google.com/view/myosuite\n",
      "    \u001b[0m\n"
     ]
    },
    {
     "name": "stderr",
     "output_type": "stream",
     "text": [
      "/home/xliu227/miniconda3/envs/myosuite/lib/python3.8/site-packages/stable_baselines3/common/on_policy_algorithm.py:150: UserWarning: You are trying to run PPO on the GPU, but it is primarily intended to run on the CPU when not using a CNN policy (you are using ActorCriticPolicy which should be a MlpPolicy). See https://github.com/DLR-RM/stable-baselines3/issues/1245 for more info. You can pass `device='cpu'` or `export CUDA_VISIBLE_DEVICES=` to force using the CPU.Note: The model will train, but the GPU utilization will be poor and the training might take longer than on CPU.\n",
      "  warnings.warn(\n"
     ]
    },
    {
     "data": {
      "text/plain": [
       "<stable_baselines3.ppo.ppo.PPO at 0x7f589f6066a0>"
      ]
     },
     "execution_count": 2,
     "metadata": {},
     "output_type": "execute_result"
    }
   ],
   "source": [
    "# from stable_baselines3 import PPO\n",
    "# policy = \"ElbowPose_policy.zip\"\n",
    "\n",
    "# pi = PPO.load(policy)\n",
    "\n",
    "from stable_baselines3 import PPO\n",
    "env = gym.make('myoElbowPose1D6MRandom-v0')\n",
    "\n",
    "env.reset()\n",
    "pi = PPO(\"MlpPolicy\", env, verbose=0)\n",
    "\n",
    "\n",
    "pi.learn(total_timesteps=1000)\n"
   ]
  },
  {
   "cell_type": "code",
   "execution_count": 3,
   "metadata": {},
   "outputs": [
    {
     "name": "stderr",
     "output_type": "stream",
     "text": [
      "/home/xliu227/miniconda3/envs/myosuite/lib/python3.8/site-packages/gymnasium/core.py:311: UserWarning: \u001b[33mWARN: env.get_obs to get variables from other wrappers is deprecated and will be removed in v1.0, to get this variable you can do `env.unwrapped.get_obs` for environment variables or `env.get_wrapper_attr('get_obs')` that will search the reminding wrappers.\u001b[0m\n",
      "  logger.warn(\n",
      "/home/xliu227/miniconda3/envs/myosuite/lib/python3.8/site-packages/gymnasium/core.py:311: UserWarning: \u001b[33mWARN: env.sim to get variables from other wrappers is deprecated and will be removed in v1.0, to get this variable you can do `env.unwrapped.sim` for environment variables or `env.get_wrapper_attr('sim')` that will search the reminding wrappers.\u001b[0m\n",
      "  logger.warn(\n"
     ]
    }
   ],
   "source": [
    "data_store = []\n",
    "for _ in range(10): # 10 episodes\n",
    "    for _ in range(100): # 100 samples for each episode\n",
    "        o = env.get_obs()\n",
    "        a = pi.predict(o)[0]\n",
    "        next_o, r, done, *_, ifo = env.step(a) # take a random action\n",
    "                    \n",
    "        data_store.append({\"action\":a.copy(), \n",
    "                            \"jpos\":env.sim.data.qpos.copy(), \n",
    "                            \"mlen\":env.sim.data.actuator_length.copy(), \n",
    "                            \"act\":env.sim.data.act.copy()})\n",
    "\n",
    "env.close()\n"
   ]
  },
  {
   "cell_type": "code",
   "execution_count": 4,
   "metadata": {},
   "outputs": [],
   "source": [
    "def VAF(W, H, A):\n",
    "    \"\"\"\n",
    "    Args:\n",
    "        W: ndarray, m x rank matrix, m-muscles x activation coefficients obtained from (# rank) nmf\n",
    "        H: ndarray, rank x L matrix, basis vectors obtained from nmf where L is the length of the signal\n",
    "        A: ndarray, m x L matrix, original time-invariant sEMG signal\n",
    "    Returns:\n",
    "        global_VAF: float, VAF calculated for the entire A based on the W&H\n",
    "        local_VAF: 1D array, VAF calculated for each muscle (column) in A based on W&H\n",
    "    \"\"\"\n",
    "    SSE_matrix = (A - np.dot(W, H))**2\n",
    "    SST_matrix = (A)**2\n",
    "\n",
    "    global_SSE = np.sum(SSE_matrix)\n",
    "    global_SST = np.sum(SST_matrix)\n",
    "    global_VAF = 100 * (1 - global_SSE / global_SST)\n",
    "\n",
    "    local_SSE = np.sum(SSE_matrix, axis = 0)\n",
    "    local_SST = np.sum(SST_matrix, axis = 0)\n",
    "    local_VAF = 100 * (1 - np.divide(local_SSE, local_SST))\n",
    "\n",
    "    return global_VAF, local_VAF"
   ]
  },
  {
   "cell_type": "code",
   "execution_count": 5,
   "metadata": {},
   "outputs": [
    {
     "name": "stdout",
     "output_type": "stream",
     "text": [
      "Requirement already satisfied: scikit-learn in /home/xliu227/miniconda3/envs/myosuite/lib/python3.8/site-packages (1.3.2)\n",
      "Requirement already satisfied: numpy<2.0,>=1.17.3 in /home/xliu227/miniconda3/envs/myosuite/lib/python3.8/site-packages (from scikit-learn) (1.24.4)\n",
      "Requirement already satisfied: scipy>=1.5.0 in /home/xliu227/miniconda3/envs/myosuite/lib/python3.8/site-packages (from scikit-learn) (1.10.1)\n",
      "Requirement already satisfied: joblib>=1.1.1 in /home/xliu227/miniconda3/envs/myosuite/lib/python3.8/site-packages (from scikit-learn) (1.4.2)\n",
      "Requirement already satisfied: threadpoolctl>=2.0.0 in /home/xliu227/miniconda3/envs/myosuite/lib/python3.8/site-packages (from scikit-learn) (3.5.0)\n"
     ]
    },
    {
     "name": "stderr",
     "output_type": "stream",
     "text": [
      "/home/xliu227/miniconda3/envs/myosuite/lib/python3.8/site-packages/sklearn/decomposition/_nmf.py:1710: ConvergenceWarning: Maximum number of iterations 200 reached. Increase it to improve convergence.\n",
      "  warnings.warn(\n",
      "/home/xliu227/miniconda3/envs/myosuite/lib/python3.8/site-packages/sklearn/decomposition/_nmf.py:1710: ConvergenceWarning: Maximum number of iterations 200 reached. Increase it to improve convergence.\n",
      "  warnings.warn(\n",
      "/home/xliu227/miniconda3/envs/myosuite/lib/python3.8/site-packages/sklearn/decomposition/_nmf.py:1710: ConvergenceWarning: Maximum number of iterations 200 reached. Increase it to improve convergence.\n",
      "  warnings.warn(\n",
      "/home/xliu227/miniconda3/envs/myosuite/lib/python3.8/site-packages/sklearn/decomposition/_nmf.py:1710: ConvergenceWarning: Maximum number of iterations 200 reached. Increase it to improve convergence.\n",
      "  warnings.warn(\n",
      "/home/xliu227/miniconda3/envs/myosuite/lib/python3.8/site-packages/sklearn/decomposition/_nmf.py:1710: ConvergenceWarning: Maximum number of iterations 200 reached. Increase it to improve convergence.\n",
      "  warnings.warn(\n",
      "/home/xliu227/miniconda3/envs/myosuite/lib/python3.8/site-packages/sklearn/decomposition/_nmf.py:1710: ConvergenceWarning: Maximum number of iterations 200 reached. Increase it to improve convergence.\n",
      "  warnings.warn(\n"
     ]
    },
    {
     "data": {
      "image/png": "[encoded data removed]",
      "text/plain": [
       "<Figure size 640x480 with 1 Axes>"
      ]
     },
     "metadata": {},
     "output_type": "display_data"
    }
   ],
   "source": [
    "!pip install scikit-learn\n",
    "import matplotlib.pyplot as plt\n",
    "from sklearn.decomposition import NMF\n",
    "\n",
    "act = np.array([dd['act'] for dd in data_store])\n",
    "\n",
    "VAFstore=[]\n",
    "SSE, SST = [], []\n",
    "\n",
    "sample_points = [1,2,3,4,5,10,20,30]\n",
    "for isyn in sample_points:\n",
    "    nmf_model = NMF(n_components=isyn, init='random', random_state=0);\n",
    "    W = nmf_model.fit_transform(act)\n",
    "    H = nmf_model.components_\n",
    "\n",
    "    global_VAF, local_VAF = VAF(W, H, act)\n",
    "\n",
    "    VAFstore.append(global_VAF)\n",
    "\n",
    "plt.plot(sample_points,VAFstore,'-o')\n",
    "plt.xlabel('Number of Muscle Synergies')\n",
    "plt.ylabel('Explained Variance R^2')\n",
    "plt.gca().spines['top'].set_visible(False)\n",
    "plt.gca().spines['right'].set_visible(False)\n"
   ]
  },
  {
   "cell_type": "code",
   "execution_count": null,
   "metadata": {},
   "outputs": [],
   "source": []
  },
  {
   "cell_type": "code",
   "execution_count": null,
   "metadata": {},
   "outputs": [],
   "source": []
  }
 ],
 "metadata": {
  "kernelspec": {
   "display_name": "Python 3 (ipykernel)",
   "language": "python",
   "name": "python3"
  },
  "language_info": {
   "codemirror_mode": {
    "name": "ipython",
    "version": 3
   },
   "file_extension": ".py",
   "mimetype": "text/x-python",
   "name": "python",
   "nbconvert_exporter": "python",
   "pygments_lexer": "ipython3",
   "version": "3.8.20"
  }
 },
 "nbformat": 4,
 "nbformat_minor": 4
}
